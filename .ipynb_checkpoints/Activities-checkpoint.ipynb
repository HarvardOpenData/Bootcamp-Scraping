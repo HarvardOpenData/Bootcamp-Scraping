{
 "cells": [
  {
   "cell_type": "code",
   "execution_count": 8,
   "metadata": {},
   "outputs": [],
   "source": [
    "from urllib.request import Request, urlopen\n",
    "from bs4 import BeautifulSoup"
   ]
  },
  {
   "cell_type": "code",
   "execution_count": 2,
   "metadata": {},
   "outputs": [],
   "source": [
    "url = \"https://www.hbs.edu/faculty/Pages/browse.aspx\"\n",
    "html = urlopen(url)\n",
    "soup = BeautifulSoup(html, 'lxml')"
   ]
  },
  {
   "cell_type": "code",
   "execution_count": 3,
   "metadata": {},
   "outputs": [],
   "source": [
    "# Scrape the links to HBS faculty profile pages by finding where they're located on the HTML pages and then using \"find_all\" and \"get\"!\n",
    "# Hint: You may want to use multiple for loops while trying to get the links\n"
   ]
  },
  {
   "cell_type": "code",
   "execution_count": 4,
   "metadata": {},
   "outputs": [],
   "source": [
    "# Extra imaginary points if you can print the links with the “hbs.edu” appended at the beginning\n"
   ]
  },
  {
   "cell_type": "code",
   "execution_count": 10,
   "metadata": {},
   "outputs": [],
   "source": [
    "# Scrape the Open Secrets 2020 election contribution webpage and find the percentage of the top 10 election contributions that went to Democrats vs. Republicans\n",
    "\n",
    "url = \"https://www.opensecrets.org/overview/topindivs.php?cycle=2020&view=fc\"\n",
    "\n",
    "# We can disguise our request\n",
    "req = Request(url, headers={'User-Agent': 'Mozilla/5.0'})\n",
    "# gcontext = ssl.SSLContext()\n",
    "html = urlopen(req).read()\n",
    "\n",
    "soup = BeautifulSoup(html, 'lxml')\n",
    "\n",
    "# Notice that we disguised our request when accessing the Open Secrets website due to increased security"
   ]
  },
  {
   "cell_type": "code",
   "execution_count": 11,
   "metadata": {},
   "outputs": [],
   "source": [
    "# Note: Re-assigning these variables will override their previous definitions when scraping HBS Faculty data!"
   ]
  },
  {
   "cell_type": "code",
   "execution_count": 12,
   "metadata": {},
   "outputs": [],
   "source": [
    "# Next, try scraping the same information from the 2014, 2016, and 2018 election contributions pages on Open Secrets\n",
    "\n"
   ]
  },
  {
   "cell_type": "code",
   "execution_count": null,
   "metadata": {},
   "outputs": [],
   "source": [
    "# Hint: Instead of setting multiple variables equal to various URLs, try looking for patterns in the links and using a for loop!"
   ]
  }
 ],
 "metadata": {
  "kernelspec": {
   "display_name": "Python 3",
   "language": "python",
   "name": "python3"
  },
  "language_info": {
   "codemirror_mode": {
    "name": "ipython",
    "version": 3
   },
   "file_extension": ".py",
   "mimetype": "text/x-python",
   "name": "python",
   "nbconvert_exporter": "python",
   "pygments_lexer": "ipython3",
   "version": "3.7.7"
  }
 },
 "nbformat": 4,
 "nbformat_minor": 2
}
